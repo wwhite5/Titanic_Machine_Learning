{
 "cells": [
  {
   "cell_type": "code",
   "execution_count": 1,
   "id": "3f49994a",
   "metadata": {},
   "outputs": [],
   "source": [
    "import findspark\n",
    "findspark.init()"
   ]
  },
  {
   "cell_type": "code",
   "execution_count": 2,
   "id": "885ad298",
   "metadata": {},
   "outputs": [],
   "source": [
    "import pyspark #only run after findspark\n",
    "from pyspark.sql import SparkSession\n",
    "spark = SparkSession.builder.getOrCreate()"
   ]
  },
  {
   "cell_type": "code",
   "execution_count": 3,
   "id": "16429edf",
   "metadata": {},
   "outputs": [
    {
     "name": "stdout",
     "output_type": "stream",
     "text": [
      "+--------+------+--------------------+------+----+-----------------------+-----------------------+-------+\n",
      "|Survived|Pclass|                Name|   Sex| Age|Siblings/Spouses Aboard|Parents/Children Aboard|   Fare|\n",
      "+--------+------+--------------------+------+----+-----------------------+-----------------------+-------+\n",
      "|       0|     3|Mr. Owen Harris B...|  male|22.0|                      1|                      0|   7.25|\n",
      "|       1|     1|Mrs. John Bradley...|female|38.0|                      1|                      0|71.2833|\n",
      "|       1|     3|Miss. Laina Heikk...|female|26.0|                      0|                      0|  7.925|\n",
      "|       1|     1|Mrs. Jacques Heat...|female|35.0|                      1|                      0|   53.1|\n",
      "|       0|     3|Mr. William Henry...|  male|35.0|                      0|                      0|   8.05|\n",
      "+--------+------+--------------------+------+----+-----------------------+-----------------------+-------+\n",
      "\n"
     ]
    }
   ],
   "source": [
    "df = spark.read.csv('titanic.csv',header=True,sep= \",\",inferSchema=True)\n",
    "\n",
    "df.limit(5).show()"
   ]
  },
  {
   "cell_type": "code",
   "execution_count": 4,
   "id": "404dfad8",
   "metadata": {},
   "outputs": [
    {
     "name": "stdout",
     "output_type": "stream",
     "text": [
      "+--------+------+----+---+---+-----------------------+-----------------------+----+\n",
      "|Survived|Pclass|Name|Sex|Age|Siblings/Spouses Aboard|Parents/Children Aboard|Fare|\n",
      "+--------+------+----+---+---+-----------------------+-----------------------+----+\n",
      "|       0|     0|   0|  0|  0|                      0|                      0|   0|\n",
      "+--------+------+----+---+---+-----------------------+-----------------------+----+\n",
      "\n"
     ]
    }
   ],
   "source": [
    "from pyspark.sql.functions import col, isnan, when, count, avg\n",
    "\n",
    "# Shows null values in each column\n",
    "df.select([count(when(isnan(c) | col(c).isNull(), c)).alias(c) for c in df.columns]\n",
    "   ).show()\n",
    "\n",
    "#drops all null values, not needed for this dataset\n",
    "#df = df.na.drop()"
   ]
  },
  {
   "cell_type": "code",
   "execution_count": 5,
   "id": "cb2df084",
   "metadata": {},
   "outputs": [
    {
     "name": "stdout",
     "output_type": "stream",
     "text": [
      "+--------+-----+\n",
      "|Survived|count|\n",
      "+--------+-----+\n",
      "|       1|  342|\n",
      "|       0|  545|\n",
      "+--------+-----+\n",
      "\n"
     ]
    }
   ],
   "source": [
    "df.groupBy('Survived').count().show()\n",
    "# 1 represents a survivor, and 0 a casualty"
   ]
  },
  {
   "cell_type": "code",
   "execution_count": 6,
   "id": "e42f8032",
   "metadata": {},
   "outputs": [
    {
     "name": "stdout",
     "output_type": "stream",
     "text": [
      "+--------+------------------+\n",
      "|Survived|         avg(Fare)|\n",
      "+--------+------------------+\n",
      "|       1| 48.39540760233917|\n",
      "|       0|22.208584036697225|\n",
      "+--------+------------------+\n",
      "\n"
     ]
    }
   ],
   "source": [
    "df.select('Survived','Fare').groupBy('Survived').agg(avg('Fare')).show()"
   ]
  },
  {
   "cell_type": "code",
   "execution_count": 7,
   "id": "ab3df6b0",
   "metadata": {},
   "outputs": [],
   "source": [
    "#Need numerical value for correleation matrix\n",
    "\n",
    "df = df.withColumn('Sex', when(df['Sex']=='male', 0).otherwise(1))"
   ]
  },
  {
   "cell_type": "code",
   "execution_count": 8,
   "id": "55d4a480",
   "metadata": {},
   "outputs": [],
   "source": [
    "from pyspark.ml.stat import Correlation\n",
    "from pyspark.ml.feature import VectorAssembler\n",
    "import pandas as pd\n",
    "\n",
    "# Returns pandas correlation matrix, corr_columns allows control of what variables to correlate\n",
    "\n",
    "def correlation_matrix(df, corr_columns, method='pearson'):\n",
    "    vector_col = 'features'\n",
    "    assembler = VectorAssembler(inputCols=corr_columns, outputCol=vector_col)\n",
    "    df_vector = assembler.transform(df).select(vector_col)\n",
    "    matrix = Correlation.corr(df_vector, vector_col, method)\n",
    "\n",
    "    result = matrix.collect()[0][\"pearson({})\".format(vector_col)].values\n",
    "    return pd.DataFrame(result.reshape(-1, len(corr_columns)), columns=corr_columns, index=corr_columns)"
   ]
  },
  {
   "cell_type": "code",
   "execution_count": 9,
   "id": "a5d30759",
   "metadata": {},
   "outputs": [
    {
     "name": "stderr",
     "output_type": "stream",
     "text": [
      "C:\\Spark\\spark-3.2.1-bin-hadoop3.2\\python\\pyspark\\sql\\context.py:125: FutureWarning: Deprecated in 3.0.0. Use SparkSession.builder.getOrCreate() instead.\n",
      "  warnings.warn(\n"
     ]
    },
    {
     "data": {
      "text/html": [
       "<div>\n",
       "<style scoped>\n",
       "    .dataframe tbody tr th:only-of-type {\n",
       "        vertical-align: middle;\n",
       "    }\n",
       "\n",
       "    .dataframe tbody tr th {\n",
       "        vertical-align: top;\n",
       "    }\n",
       "\n",
       "    .dataframe thead th {\n",
       "        text-align: right;\n",
       "    }\n",
       "</style>\n",
       "<table border=\"1\" class=\"dataframe\">\n",
       "  <thead>\n",
       "    <tr style=\"text-align: right;\">\n",
       "      <th></th>\n",
       "      <th>Survived</th>\n",
       "      <th>Pclass</th>\n",
       "      <th>Sex</th>\n",
       "      <th>Age</th>\n",
       "      <th>Siblings/Spouses Aboard</th>\n",
       "      <th>Parents/Children Aboard</th>\n",
       "      <th>Fare</th>\n",
       "    </tr>\n",
       "  </thead>\n",
       "  <tbody>\n",
       "    <tr>\n",
       "      <th>Survived</th>\n",
       "      <td>1.000000</td>\n",
       "      <td>-0.336528</td>\n",
       "      <td>0.542152</td>\n",
       "      <td>-0.059665</td>\n",
       "      <td>-0.037082</td>\n",
       "      <td>0.080097</td>\n",
       "      <td>0.256179</td>\n",
       "    </tr>\n",
       "    <tr>\n",
       "      <th>Pclass</th>\n",
       "      <td>-0.336528</td>\n",
       "      <td>1.000000</td>\n",
       "      <td>-0.129507</td>\n",
       "      <td>-0.391492</td>\n",
       "      <td>0.085026</td>\n",
       "      <td>0.020252</td>\n",
       "      <td>-0.548919</td>\n",
       "    </tr>\n",
       "    <tr>\n",
       "      <th>Sex</th>\n",
       "      <td>0.542152</td>\n",
       "      <td>-0.129507</td>\n",
       "      <td>1.000000</td>\n",
       "      <td>-0.091875</td>\n",
       "      <td>0.113249</td>\n",
       "      <td>0.244337</td>\n",
       "      <td>0.181137</td>\n",
       "    </tr>\n",
       "    <tr>\n",
       "      <th>Age</th>\n",
       "      <td>-0.059665</td>\n",
       "      <td>-0.391492</td>\n",
       "      <td>-0.091875</td>\n",
       "      <td>1.000000</td>\n",
       "      <td>-0.297669</td>\n",
       "      <td>-0.193741</td>\n",
       "      <td>0.112329</td>\n",
       "    </tr>\n",
       "    <tr>\n",
       "      <th>Siblings/Spouses Aboard</th>\n",
       "      <td>-0.037082</td>\n",
       "      <td>0.085026</td>\n",
       "      <td>0.113249</td>\n",
       "      <td>-0.297669</td>\n",
       "      <td>1.000000</td>\n",
       "      <td>0.414244</td>\n",
       "      <td>0.158839</td>\n",
       "    </tr>\n",
       "    <tr>\n",
       "      <th>Parents/Children Aboard</th>\n",
       "      <td>0.080097</td>\n",
       "      <td>0.020252</td>\n",
       "      <td>0.244337</td>\n",
       "      <td>-0.193741</td>\n",
       "      <td>0.414244</td>\n",
       "      <td>1.000000</td>\n",
       "      <td>0.215470</td>\n",
       "    </tr>\n",
       "    <tr>\n",
       "      <th>Fare</th>\n",
       "      <td>0.256179</td>\n",
       "      <td>-0.548919</td>\n",
       "      <td>0.181137</td>\n",
       "      <td>0.112329</td>\n",
       "      <td>0.158839</td>\n",
       "      <td>0.215470</td>\n",
       "      <td>1.000000</td>\n",
       "    </tr>\n",
       "  </tbody>\n",
       "</table>\n",
       "</div>"
      ],
      "text/plain": [
       "                         Survived    Pclass       Sex       Age  \\\n",
       "Survived                 1.000000 -0.336528  0.542152 -0.059665   \n",
       "Pclass                  -0.336528  1.000000 -0.129507 -0.391492   \n",
       "Sex                      0.542152 -0.129507  1.000000 -0.091875   \n",
       "Age                     -0.059665 -0.391492 -0.091875  1.000000   \n",
       "Siblings/Spouses Aboard -0.037082  0.085026  0.113249 -0.297669   \n",
       "Parents/Children Aboard  0.080097  0.020252  0.244337 -0.193741   \n",
       "Fare                     0.256179 -0.548919  0.181137  0.112329   \n",
       "\n",
       "                         Siblings/Spouses Aboard  Parents/Children Aboard  \\\n",
       "Survived                               -0.037082                 0.080097   \n",
       "Pclass                                  0.085026                 0.020252   \n",
       "Sex                                     0.113249                 0.244337   \n",
       "Age                                    -0.297669                -0.193741   \n",
       "Siblings/Spouses Aboard                 1.000000                 0.414244   \n",
       "Parents/Children Aboard                 0.414244                 1.000000   \n",
       "Fare                                    0.158839                 0.215470   \n",
       "\n",
       "                             Fare  \n",
       "Survived                 0.256179  \n",
       "Pclass                  -0.548919  \n",
       "Sex                      0.181137  \n",
       "Age                      0.112329  \n",
       "Siblings/Spouses Aboard  0.158839  \n",
       "Parents/Children Aboard  0.215470  \n",
       "Fare                     1.000000  "
      ]
     },
     "execution_count": 9,
     "metadata": {},
     "output_type": "execute_result"
    }
   ],
   "source": [
    "corr_columns = ['Survived','Pclass','Sex','Age','Siblings/Spouses Aboard',\n",
    "'Parents/Children Aboard','Fare']\n",
    "\n",
    "correlation_matrix(df, corr_columns)"
   ]
  },
  {
   "cell_type": "code",
   "execution_count": 10,
   "id": "dccf49b2",
   "metadata": {},
   "outputs": [],
   "source": [
    "# Setup vector column for ML\n",
    "\n",
    "ignore = ['Survived', 'Name']\n",
    "mlassembler = VectorAssembler(inputCols=[x for x in df.columns if x not in ignore], outputCol = 'features')\n",
    "new_df = mlassembler.transform(df).select(['features', 'Survived'])"
   ]
  },
  {
   "cell_type": "code",
   "execution_count": 11,
   "id": "cdbfe652",
   "metadata": {},
   "outputs": [
    {
     "name": "stdout",
     "output_type": "stream",
     "text": [
      "Train dataset count: 681\n",
      "Test dataset count: 206\n"
     ]
    }
   ],
   "source": [
    "# Split into training and testing set\n",
    "\n",
    "train, test = new_df.randomSplit([0.75, 0.25], seed = 1912)\n",
    "print('Train dataset count:', train.count())\n",
    "print('Test dataset count:', test.count())"
   ]
  },
  {
   "cell_type": "code",
   "execution_count": 12,
   "id": "fe849e63",
   "metadata": {},
   "outputs": [],
   "source": [
    "# A logistic regression model\n",
    "\n",
    "from pyspark.ml.classification import LogisticRegression\n",
    "from pyspark.ml.evaluation import BinaryClassificationEvaluator, MulticlassClassificationEvaluator\n",
    "\n",
    "lr = LogisticRegression(featuresCol = 'features', labelCol='Survived')\n",
    "lr_model = lr.fit(train)"
   ]
  },
  {
   "cell_type": "code",
   "execution_count": 13,
   "id": "0d312cb4",
   "metadata": {},
   "outputs": [
    {
     "name": "stdout",
     "output_type": "stream",
     "text": [
      "AUC of the LR model: 0.8779390420899845\n",
      "Accuracy: 73.3 %\n"
     ]
    },
    {
     "data": {
      "image/png": "[encoded data removed]",
      "text/plain": [
       "<Figure size 432x288 with 1 Axes>"
      ]
     },
     "metadata": {
      "needs_background": "light"
     },
     "output_type": "display_data"
    }
   ],
   "source": [
    "print('AUC of the LR model:', lr_model.summary.areaUnderROC)\n",
    "\n",
    "# It seems easiest to find accuracy and a confusion matrix w/ sklearn, though this may break with huge datasets?\n",
    "import numpy as np\n",
    "from sklearn.metrics import accuracy_score, confusion_matrix\n",
    "\n",
    "realVSpred = lr_model.transform(test).select('Survived', 'prediction')\n",
    "realVSprednp = np.array((realVSpred.collect()))\n",
    "\n",
    "accuracy = accuracy_score(realVSprednp[:,0], realVSprednp[:,1]) # 0 is 'Survived' and 1 is 'prediction'\n",
    "print(f'Accuracy: {round(accuracy*100,2)} %')\n",
    "\n",
    "import matplotlib.pyplot as plt\n",
    "from mlxtend.plotting import plot_confusion_matrix\n",
    "\n",
    "cm = confusion_matrix(realVSprednp[:,0],realVSprednp[:,1])\n",
    "\n",
    "fig, ax = plot_confusion_matrix(conf_mat=cm)\n",
    "plt.show()"
   ]
  },
  {
   "cell_type": "code",
   "execution_count": 14,
   "id": "567784f4",
   "metadata": {},
   "outputs": [],
   "source": [
    "# A random forest classifier model\n",
    "from pyspark.ml.classification import RandomForestClassifier\n",
    "\n",
    "rf = RandomForestClassifier(featuresCol = 'features', labelCol = 'Survived')\n",
    "rf_model = rf.fit(train)"
   ]
  },
  {
   "cell_type": "code",
   "execution_count": 15,
   "id": "7388e6b8",
   "metadata": {},
   "outputs": [
    {
     "name": "stdout",
     "output_type": "stream",
     "text": [
      "AUC of the RF model: 0.9218160377358491\n",
      "Accuracy: 77.18 %\n"
     ]
    },
    {
     "data": {
      "image/png": "[encoded data removed]",
      "text/plain": [
       "<Figure size 432x288 with 1 Axes>"
      ]
     },
     "metadata": {
      "needs_background": "light"
     },
     "output_type": "display_data"
    }
   ],
   "source": [
    "print('AUC of the RF model:', rf_model.summary.areaUnderROC)\n",
    "\n",
    "rfrealVSpred = rf_model.transform(test).select('Survived', 'prediction')\n",
    "rfrealVSprednp = np.array((rfrealVSpred.collect()))\n",
    "\n",
    "rfaccuracy = accuracy_score(rfrealVSprednp[:,0], rfrealVSprednp[:,1]) #0 is 'Survived' and 1 is 'prediction'\n",
    "print(f'Accuracy: {round(rfaccuracy*100,2)} %')\n",
    "\n",
    "rfcm = confusion_matrix(rfrealVSprednp[:,0],rfrealVSprednp[:,1])\n",
    "\n",
    "fig, ax = plot_confusion_matrix(conf_mat=rfcm)\n",
    "plt.show()"
   ]
  },
  {
   "cell_type": "code",
   "execution_count": null,
   "id": "69cf017d",
   "metadata": {},
   "outputs": [],
   "source": []
  }
 ],
 "metadata": {
  "kernelspec": {
   "display_name": "Python 3 (ipykernel)",
   "language": "python",
   "name": "python3"
  },
  "language_info": {
   "codemirror_mode": {
    "name": "ipython",
    "version": 3
   },
   "file_extension": ".py",
   "mimetype": "text/x-python",
   "name": "python",
   "nbconvert_exporter": "python",
   "pygments_lexer": "ipython3",
   "version": "3.9.12"
  }
 },
 "nbformat": 4,
 "nbformat_minor": 5
}
